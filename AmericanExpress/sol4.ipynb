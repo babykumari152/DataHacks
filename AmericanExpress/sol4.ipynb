{
 "cells": [
  {
   "cell_type": "code",
   "execution_count": 1,
   "metadata": {},
   "outputs": [],
   "source": [
    "import pandas as pd\n",
    "import numpy as np\n",
    "from sklearn import ensemble\n",
    "from sklearn.utils import shuffle\n",
    "from sklearn.metrics import mean_squared_log_error\n",
    "from sklearn import preprocessing\n",
    "import matplotlib.pyplot as plt\n",
    "import seaborn as sns\n",
    "labelencoder=preprocessing.LabelEncoder()\n",
    "#from missingpy import MissForest\n",
    "#imputer = MissForest()"
   ]
  },
  {
   "cell_type": "code",
   "execution_count": 2,
   "metadata": {},
   "outputs": [],
   "source": [
    "df=pd.read_csv(r'C:\\Users\\ADMIN\\Desktop\\AE\\train.csv')"
   ]
  },
  {
   "cell_type": "code",
   "execution_count": 3,
   "metadata": {},
   "outputs": [],
   "source": [
    "df['gender']=labelencoder.fit_transform(df['gender'])\n",
    "df['account_type']=labelencoder.fit_transform(df['account_type'])"
   ]
  },
  {
   "cell_type": "code",
   "execution_count": 4,
   "metadata": {},
   "outputs": [],
   "source": [
    "df['card_lim'].fillna(df['card_lim'].mean(),inplace=True)"
   ]
  },
  {
   "cell_type": "code",
   "execution_count": 5,
   "metadata": {},
   "outputs": [],
   "source": [
    "df['loan_enq'].replace('Y',1,inplace=True)"
   ]
  },
  {
   "cell_type": "code",
   "execution_count": 6,
   "metadata": {},
   "outputs": [],
   "source": [
    "df['loan_enq'].fillna(0,inplace=True)\n",
    "label=df['id']"
   ]
  },
  {
   "cell_type": "code",
   "execution_count": 7,
   "metadata": {},
   "outputs": [],
   "source": [
    "col=df.columns.tolist()\n",
    "n=len(col)\n",
    "for i in range(n):\n",
    "    df[col[i]]=df[col[i]].fillna(df[col[i]].mean())"
   ]
  },
  {
   "cell_type": "code",
   "execution_count": 8,
   "metadata": {},
   "outputs": [],
   "source": [
    "train_x=df"
   ]
  },
  {
   "cell_type": "code",
   "execution_count": 9,
   "metadata": {},
   "outputs": [
    {
     "data": {
      "text/plain": [
       "id                       0\n",
       "account_type             0\n",
       "gender                   0\n",
       "age                      0\n",
       "region_code              0\n",
       "cc_cons_apr              0\n",
       "dc_cons_apr              0\n",
       "cc_cons_may              0\n",
       "dc_cons_may              0\n",
       "cc_cons_jun              0\n",
       "dc_cons_jun              0\n",
       "cc_count_apr             0\n",
       "cc_count_may             0\n",
       "cc_count_jun             0\n",
       "dc_count_apr             0\n",
       "dc_count_may             0\n",
       "dc_count_jun             0\n",
       "card_lim                 0\n",
       "personal_loan_active     0\n",
       "vehicle_loan_active      0\n",
       "personal_loan_closed     0\n",
       "vehicle_loan_closed      0\n",
       "investment_1             0\n",
       "investment_2             0\n",
       "investment_3             0\n",
       "investment_4             0\n",
       "debit_amount_apr         0\n",
       "credit_amount_apr        0\n",
       "debit_count_apr          0\n",
       "credit_count_apr         0\n",
       "max_credit_amount_apr    0\n",
       "debit_amount_may         0\n",
       "credit_amount_may        0\n",
       "credit_count_may         0\n",
       "debit_count_may          0\n",
       "max_credit_amount_may    0\n",
       "debit_amount_jun         0\n",
       "credit_amount_jun        0\n",
       "credit_count_jun         0\n",
       "debit_count_jun          0\n",
       "max_credit_amount_jun    0\n",
       "loan_enq                 0\n",
       "emi_active               0\n",
       "cc_cons                  0\n",
       "dtype: int64"
      ]
     },
     "execution_count": 9,
     "metadata": {},
     "output_type": "execute_result"
    }
   ],
   "source": [
    "train_x.isnull().sum()"
   ]
  },
  {
   "cell_type": "code",
   "execution_count": 12,
   "metadata": {},
   "outputs": [],
   "source": [
    "del df['investment_4']"
   ]
  },
  {
   "cell_type": "code",
   "execution_count": 11,
   "metadata": {},
   "outputs": [],
   "source": [
    "del df['investment_3']\n",
    "del df['investment_2']\n",
    "del df['investment_1']\n",
    "#del df['loan_enq']"
   ]
  },
  {
   "cell_type": "code",
   "execution_count": 10,
   "metadata": {},
   "outputs": [
    {
     "data": {
      "text/plain": [
       "0        0.0\n",
       "1        0.0\n",
       "2        0.0\n",
       "3        0.0\n",
       "4        0.0\n",
       "5        0.0\n",
       "6        0.0\n",
       "7        0.0\n",
       "8        0.0\n",
       "9        0.0\n",
       "10       1.0\n",
       "11       0.0\n",
       "12       0.0\n",
       "13       0.0\n",
       "14       0.0\n",
       "15       0.0\n",
       "16       0.0\n",
       "17       0.0\n",
       "18       0.0\n",
       "19       0.0\n",
       "20       0.0\n",
       "21       0.0\n",
       "22       0.0\n",
       "23       0.0\n",
       "24       0.0\n",
       "25       0.0\n",
       "26       0.0\n",
       "27       0.0\n",
       "28       0.0\n",
       "29       0.0\n",
       "        ... \n",
       "32790    0.0\n",
       "32791    0.0\n",
       "32792    0.0\n",
       "32793    0.0\n",
       "32794    0.0\n",
       "32795    0.0\n",
       "32796    0.0\n",
       "32797    0.0\n",
       "32798    0.0\n",
       "32799    0.0\n",
       "32800    0.0\n",
       "32801    0.0\n",
       "32802    0.0\n",
       "32803    0.0\n",
       "32804    0.0\n",
       "32805    0.0\n",
       "32806    0.0\n",
       "32807    0.0\n",
       "32808    0.0\n",
       "32809    0.0\n",
       "32810    0.0\n",
       "32811    0.0\n",
       "32812    0.0\n",
       "32813    1.0\n",
       "32814    0.0\n",
       "32815    0.0\n",
       "32816    0.0\n",
       "32817    0.0\n",
       "32818    0.0\n",
       "32819    0.0\n",
       "Name: loan_enq, Length: 32820, dtype: float64"
      ]
     },
     "execution_count": 10,
     "metadata": {},
     "output_type": "execute_result"
    }
   ],
   "source": [
    "train_x['loan_enq']"
   ]
  },
  {
   "cell_type": "code",
   "execution_count": 14,
   "metadata": {},
   "outputs": [],
   "source": [
    "del df['personal_loan_active']"
   ]
  },
  {
   "cell_type": "code",
   "execution_count": 16,
   "metadata": {},
   "outputs": [],
   "source": [
    "del df['vehicle_loan_active']"
   ]
  },
  {
   "cell_type": "code",
   "execution_count": 17,
   "metadata": {},
   "outputs": [],
   "source": [
    "train_x=df"
   ]
  },
  {
   "cell_type": "code",
   "execution_count": 18,
   "metadata": {},
   "outputs": [
    {
     "data": {
      "text/plain": [
       "id                       0\n",
       "account_type             0\n",
       "gender                   0\n",
       "age                      0\n",
       "region_code              0\n",
       "cc_cons_apr              0\n",
       "dc_cons_apr              0\n",
       "cc_cons_may              0\n",
       "dc_cons_may              0\n",
       "cc_cons_jun              0\n",
       "dc_cons_jun              0\n",
       "cc_count_apr             0\n",
       "cc_count_may             0\n",
       "cc_count_jun             0\n",
       "dc_count_apr             0\n",
       "dc_count_may             0\n",
       "dc_count_jun             0\n",
       "card_lim                 0\n",
       "personal_loan_closed     0\n",
       "vehicle_loan_closed      0\n",
       "debit_amount_apr         0\n",
       "credit_amount_apr        0\n",
       "debit_count_apr          0\n",
       "credit_count_apr         0\n",
       "max_credit_amount_apr    0\n",
       "debit_amount_may         0\n",
       "credit_amount_may        0\n",
       "credit_count_may         0\n",
       "debit_count_may          0\n",
       "max_credit_amount_may    0\n",
       "debit_amount_jun         0\n",
       "credit_amount_jun        0\n",
       "credit_count_jun         0\n",
       "debit_count_jun          0\n",
       "max_credit_amount_jun    0\n",
       "loan_enq                 0\n",
       "emi_active               0\n",
       "cc_cons                  0\n",
       "dtype: int64"
      ]
     },
     "execution_count": 18,
     "metadata": {},
     "output_type": "execute_result"
    }
   ],
   "source": [
    "train_x.isnull().sum()"
   ]
  },
  {
   "cell_type": "code",
   "execution_count": 66,
   "metadata": {},
   "outputs": [],
   "source": [
    "matrix = train_x.corr()\n",
    "interesting_variables = matrix['cc_cons'].sort_values(ascending=False)\n",
    "# Filter out the target variables (SalePrice) and variables with a low correlation score (v such that -0.6 <= v <= 0.6)\n",
    "interesting_variables = interesting_variables[abs(interesting_variables) >= 0.15]\n",
    "interesting_variables = interesting_variables[interesting_variables.index != 'cc_cons']"
   ]
  },
  {
   "cell_type": "code",
   "execution_count": 67,
   "metadata": {},
   "outputs": [
    {
     "data": {
      "text/plain": [
       "cc_cons_avg              0.432376\n",
       "credit_debit             0.426913\n",
       "cc_dc_cons               0.426913\n",
       "cons_age                 0.409480\n",
       "cc_avg_cl                0.384932\n",
       "cc_cons_jun              0.379366\n",
       "age_gender               0.366970\n",
       "cc_cons_may              0.328249\n",
       "cc_cons_apr              0.319911\n",
       "credit_debit_lim         0.308951\n",
       "age_lim                  0.266268\n",
       "card_lim                 0.265348\n",
       "cc_cons_jl               0.253998\n",
       "trans_card_lim           0.242652\n",
       "card_lim_spends          0.219737\n",
       "cons_per_trans           0.203408\n",
       "cc_count_jun             0.175265\n",
       "max_credit_amount_avg    0.168162\n",
       "cc_count_may             0.167122\n",
       "credit_amount            0.154086\n",
       "Name: cc_cons, dtype: float64"
      ]
     },
     "execution_count": 67,
     "metadata": {},
     "output_type": "execute_result"
    }
   ],
   "source": [
    "interesting_variables"
   ]
  },
  {
   "cell_type": "code",
   "execution_count": 26,
   "metadata": {},
   "outputs": [],
   "source": [
    "train_x['cc_cons_avg']=(train_x['cc_cons_apr']+train_x['cc_cons_may']+train_x['cc_cons_jun'])/3\n",
    "train_x['debit_count_avg']=(train_x['debit_count_apr']+train_x['debit_count_may']+train_x['debit_count_jun'])\n",
    "train_x['credit_count_avg']=(train_x['credit_count_apr']+train_x['credit_count_may']+train_x['credit_count_jun'])\n",
    "train_x['dc_cons_avg']=(train_x['dc_cons_apr']+train_x['dc_cons_may']+train_x['dc_cons_jun'])/3\n",
    "#train_x['investment']=train_x['investment_1']+train_x['investment_2']+train_x['investment_3']+train_x['investment_4']\n",
    "train_x['cons_per_trans']=train_x['cc_cons_jun']/train_x['cc_count_jun']+train_x['cc_cons_may']/train_x['cc_count_may']+train_x['cc_cons_apr']/train_x['cc_count_apr']\n",
    "train_x['card_lim_spends']=train_x['card_lim']*train_x['credit_count_avg'] #\n",
    "train_x['cc_dc_cons']=train_x['cc_cons_avg']+train_x['dc_cons_avg']\n",
    "train_x['credit_amount']=train_x['credit_amount_apr']+train_x['credit_amount_may']+train_x['credit_amount_jun']\n",
    "train_x['debit_amount']=train_x['debit_amount_apr']+train_x['debit_amount_may']+train_x['debit_amount_jun']\n",
    "train_x['amount_cons_ratio']=train_x['cc_cons_avg']/train_x['credit_amount']\n",
    "#train_x['loan']=train_x['personal_loan_active']+train_x['vehicle_loan_active']+train_x['emi_active']+train_x['investment']\n",
    "train_x['age_lim']=train_x['card_lim']/train_x['age']\n",
    "train_x['cons_age']=train_x['cc_cons_avg']/train_x['age']\n",
    "train_x['max_credit_amount_avg']=train_x['max_credit_amount_apr']+train_x['max_credit_amount_may']+train_x['max_credit_amount_jun']\n",
    "train_x['credit_spent']=train_x['max_credit_amount_avg']-train_x['cc_cons_avg']\n",
    "train_x['credit_debit']=train_x['cc_cons_avg']+train_x['dc_cons_avg']\n",
    "train_x['credit_debit_lim']=train_x['credit_debit']+train_x['card_lim']\n",
    "train_x['trans_card_lim']=train_x['cons_per_trans']*train_x['card_lim'] #\n",
    "#train_x['loan_age_lim']=train_x['loan_age']*train_x['card_lim']"
   ]
  },
  {
   "cell_type": "code",
   "execution_count": 20,
   "metadata": {},
   "outputs": [],
   "source": [
    "train_x['cc_avg_cl']=train_x['cc_cons_avg']*train_x['card_lim']"
   ]
  },
  {
   "cell_type": "code",
   "execution_count": 21,
   "metadata": {},
   "outputs": [],
   "source": [
    "train_x['cc_cons_jl']=train_x['cc_cons_avg']*train_x['account_type']"
   ]
  },
  {
   "cell_type": "code",
   "execution_count": 22,
   "metadata": {},
   "outputs": [],
   "source": [
    "train_x['age_gender']=train_x['age']*train_x['gender']*train_x['cc_cons_avg']"
   ]
  },
  {
   "cell_type": "code",
   "execution_count": 23,
   "metadata": {},
   "outputs": [],
   "source": [
    "train_x['loan_enqs']=(train_x['loan_enq']*train_x['card_lim'])"
   ]
  },
  {
   "cell_type": "code",
   "execution_count": null,
   "metadata": {},
   "outputs": [],
   "source": []
  },
  {
   "cell_type": "markdown",
   "metadata": {},
   "source": [
    "### test data"
   ]
  },
  {
   "cell_type": "code",
   "execution_count": 29,
   "metadata": {},
   "outputs": [],
   "source": [
    "test=pd.read_csv(r'C:\\Users\\ADMIN\\Desktop\\AE\\test_9K3DBWQ.csv')"
   ]
  },
  {
   "cell_type": "code",
   "execution_count": 30,
   "metadata": {},
   "outputs": [],
   "source": [
    "test_id=test['id']"
   ]
  },
  {
   "cell_type": "code",
   "execution_count": 35,
   "metadata": {},
   "outputs": [],
   "source": [
    "test['gender']=labelencoder.fit_transform(test['gender'])\n",
    "test['account_type']=labelencoder.fit_transform(test['account_type'])"
   ]
  },
  {
   "cell_type": "code",
   "execution_count": 36,
   "metadata": {},
   "outputs": [],
   "source": [
    "test['card_lim'].fillna(test['card_lim'].mean(),inplace=True)"
   ]
  },
  {
   "cell_type": "code",
   "execution_count": 37,
   "metadata": {},
   "outputs": [],
   "source": [
    "test['loan_enq'].replace('Y',1,inplace=True)\n",
    "test['loan_enq'].fillna(0,inplace=True)"
   ]
  },
  {
   "cell_type": "code",
   "execution_count": 38,
   "metadata": {},
   "outputs": [],
   "source": [
    "col=test.columns.tolist()\n",
    "n=len(col)\n",
    "for i in range(n):\n",
    "    test[col[i]]=test[col[i]].fillna(test[col[i]].mean())"
   ]
  },
  {
   "cell_type": "code",
   "execution_count": 56,
   "metadata": {},
   "outputs": [],
   "source": [
    "test_x=test"
   ]
  },
  {
   "cell_type": "code",
   "execution_count": 57,
   "metadata": {},
   "outputs": [],
   "source": [
    "test_x['cc_cons_avg']=(test_x['cc_cons_apr']+test_x['cc_cons_may']+test_x['cc_cons_jun'])/3\n",
    "test_x['debit_count_avg']=(test_x['debit_count_apr']+test_x['debit_count_may']+test_x['debit_count_jun'])\n",
    "test_x['credit_count_avg']=(test_x['credit_count_apr']+test_x['credit_count_may']+test_x['credit_count_jun'])\n",
    "test_x['dc_cons_avg']=(test_x['dc_cons_apr']+test_x['dc_cons_may']+test_x['dc_cons_jun'])/3\n",
    "#test_x['investment']=test_x['investment_1']+test_x['investment_2']+test_x['investment_3']+test_x['investment_4']\n",
    "test_x['cons_per_trans']=test_x['cc_cons_jun']/test_x['cc_count_jun']+test_x['cc_cons_may']/test_x['cc_count_may']+test_x['cc_cons_apr']/test_x['cc_count_apr']\n",
    "test_x['card_lim_spends']=test_x['card_lim']*test_x['credit_count_avg']\n",
    "test_x['cc_dc_cons']=test_x['cc_cons_avg']+test_x['dc_cons_avg']\n",
    "test_x['credit_amount']=test_x['credit_amount_apr']+test_x['credit_amount_may']+test_x['credit_amount_jun']\n",
    "test_x['debit_amount']=test_x['debit_amount_apr']+test_x['debit_amount_may']+test_x['debit_amount_jun']\n",
    "test_x['amount_cons_ratio']=test_x['cc_cons_avg']/test_x['credit_amount']\n",
    "#test_x['loan']=test_x['personal_loan_active']+test_x['vehicle_loan_active']+test_x['emi_active']+test_x['investment']\n",
    "test_x['age_lim']=test_x['card_lim']/test_x['age']\n",
    "test_x['cons_age']=test_x['cc_cons_avg']/test_x['age']\n",
    "test_x['max_credit_amount_avg']=test_x['max_credit_amount_apr']+test_x['max_credit_amount_may']+test_x['max_credit_amount_jun']\n",
    "test_x['credit_spent']=test_x['max_credit_amount_avg']-test_x['cc_cons_avg']\n",
    "test_x['credit_debit']=test_x['cc_cons_avg']+test_x['dc_cons_avg']\n",
    "test_x['credit_debit_lim']=test_x['credit_debit']+test_x['card_lim']\n",
    "#test_x['loan_age']=test_x['loan']/test_x['age']\n",
    "#test_x['loan_age_lim']=test_x['loan_age']*test_x['card_lim']\n",
    "test_x['trans_card_lim']=test_x['cons_per_trans']*test_x['card_lim'] #\n"
   ]
  },
  {
   "cell_type": "code",
   "execution_count": 58,
   "metadata": {},
   "outputs": [],
   "source": [
    "test_x['cc_avg_cl']=test_x['cc_cons_avg']*test_x['card_lim']/100\n",
    "test_x['cc_cons_jl']=test_x['cc_cons_avg']*test_x['account_type']\n",
    "test_x['age_gender']=test_x['age']*test_x['gender']*test_x['cc_cons_avg']\n",
    "test_x['loan_enqs']=(test_x['loan_enq']*test_x['card_lim'])\n"
   ]
  },
  {
   "cell_type": "markdown",
   "metadata": {},
   "source": [
    "### TRAIN AND TEST DATA"
   ]
  },
  {
   "cell_type": "code",
   "execution_count": 80,
   "metadata": {},
   "outputs": [],
   "source": [
    "X_train=train_x[interesting_variables.index.tolist()]\n",
    "y_train=df['cc_cons']"
   ]
  },
  {
   "cell_type": "code",
   "execution_count": 81,
   "metadata": {},
   "outputs": [
    {
     "name": "stderr",
     "output_type": "stream",
     "text": [
      "C:\\ProgramData\\Anaconda3\\lib\\site-packages\\ipykernel_launcher.py:1: FutureWarning: Method .as_matrix will be removed in a future version. Use .values instead.\n",
      "  \"\"\"Entry point for launching an IPython kernel.\n",
      "C:\\ProgramData\\Anaconda3\\lib\\site-packages\\ipykernel_launcher.py:2: FutureWarning: Method .as_matrix will be removed in a future version. Use .values instead.\n",
      "  \n"
     ]
    }
   ],
   "source": [
    "X = X_train.as_matrix().astype(np.float)\n",
    "y = y_train.as_matrix().astype(np.float)"
   ]
  },
  {
   "cell_type": "code",
   "execution_count": 82,
   "metadata": {},
   "outputs": [],
   "source": [
    "X_test=test_x[interesting_variables.index.tolist()]"
   ]
  },
  {
   "cell_type": "markdown",
   "metadata": {},
   "source": [
    "### TRAINING AND TESTING"
   ]
  },
  {
   "cell_type": "code",
   "execution_count": 45,
   "metadata": {},
   "outputs": [],
   "source": [
    "from sklearn.model_selection import GridSearchCV"
   ]
  },
  {
   "cell_type": "code",
   "execution_count": 83,
   "metadata": {},
   "outputs": [
    {
     "name": "stderr",
     "output_type": "stream",
     "text": [
      "C:\\ProgramData\\Anaconda3\\lib\\site-packages\\sklearn\\model_selection\\_split.py:2053: FutureWarning: You should specify a value for 'cv' instead of relying on the default value. The default value will change from 3 to 5 in version 0.22.\n",
      "  warnings.warn(CV_WARNING, FutureWarning)\n"
     ]
    },
    {
     "data": {
      "text/plain": [
       "({'learning_rate': 0.005, 'n_estimators': 500}, 0.19936453928577227)"
      ]
     },
     "execution_count": 83,
     "metadata": {},
     "output_type": "execute_result"
    }
   ],
   "source": [
    "p_test3 = {'learning_rate':[0.15,0.1,0.05,0.01,0.005,0.001], 'n_estimators':[100,250,500,750,1000,1250]}\n",
    "tuning = GridSearchCV(estimator =ensemble.GradientBoostingRegressor(max_depth=4, min_samples_split=2, min_samples_leaf=1, subsample=1,max_features='sqrt', random_state=10), \n",
    "            param_grid = p_test3)\n",
    "tuning.fit(X_train,y_train)\n",
    "tuning.best_params_, tuning.best_score_"
   ]
  },
  {
   "cell_type": "code",
   "execution_count": 97,
   "metadata": {},
   "outputs": [],
   "source": [
    "params = {'n_estimators': 1500, 'max_depth': 7, 'min_samples_split': 2,\n",
    "          'learning_rate': 0.005, 'loss': 'ls'}\n",
    "clf = ensemble.GradientBoostingRegressor(**params)\n",
    "\n"
   ]
  },
  {
   "cell_type": "code",
   "execution_count": 99,
   "metadata": {
    "scrolled": true
   },
   "outputs": [
    {
     "data": {
      "text/plain": [
       "GradientBoostingRegressor(alpha=0.9, criterion='friedman_mse', init=None,\n",
       "                          learning_rate=0.005, loss='ls', max_depth=7,\n",
       "                          max_features=None, max_leaf_nodes=None,\n",
       "                          min_impurity_decrease=0.0, min_impurity_split=None,\n",
       "                          min_samples_leaf=1, min_samples_split=2,\n",
       "                          min_weight_fraction_leaf=0.0, n_estimators=1500,\n",
       "                          n_iter_no_change=None, presort='auto',\n",
       "                          random_state=None, subsample=1.0, tol=0.0001,\n",
       "                          validation_fraction=0.1, verbose=0, warm_start=False)"
      ]
     },
     "execution_count": 99,
     "metadata": {},
     "output_type": "execute_result"
    }
   ],
   "source": [
    "clf.fit(X_train,y_train)"
   ]
  },
  {
   "cell_type": "code",
   "execution_count": 100,
   "metadata": {},
   "outputs": [
    {
     "data": {
      "text/plain": [
       "1.637639001396383"
      ]
     },
     "execution_count": 100,
     "metadata": {},
     "output_type": "execute_result"
    }
   ],
   "source": [
    "mean_squared_log_error(y_train,clf.predict(X_train))"
   ]
  },
  {
   "cell_type": "code",
   "execution_count": 101,
   "metadata": {},
   "outputs": [],
   "source": [
    "cc_cons=clf.predict(X_test)"
   ]
  },
  {
   "cell_type": "code",
   "execution_count": 102,
   "metadata": {},
   "outputs": [],
   "source": [
    "test2=pd.DataFrame()"
   ]
  },
  {
   "cell_type": "code",
   "execution_count": 103,
   "metadata": {},
   "outputs": [],
   "source": [
    "test2['id']=test_id\n",
    "test2['cc_cons']=cc_cons"
   ]
  },
  {
   "cell_type": "code",
   "execution_count": 77,
   "metadata": {},
   "outputs": [
    {
     "data": {
      "text/plain": [
       "(14067, 20)"
      ]
     },
     "execution_count": 77,
     "metadata": {},
     "output_type": "execute_result"
    }
   ],
   "source": [
    "X_test.shape"
   ]
  },
  {
   "cell_type": "code",
   "execution_count": 78,
   "metadata": {},
   "outputs": [
    {
     "data": {
      "text/plain": [
       "(14067,)"
      ]
     },
     "execution_count": 78,
     "metadata": {},
     "output_type": "execute_result"
    }
   ],
   "source": [
    "test_id.shape"
   ]
  },
  {
   "cell_type": "code",
   "execution_count": 104,
   "metadata": {},
   "outputs": [],
   "source": [
    "test2.to_csv(r'C:\\Users\\ADMIN\\Desktop\\AE\\test4.csv',index=None)"
   ]
  },
  {
   "cell_type": "code",
   "execution_count": null,
   "metadata": {},
   "outputs": [],
   "source": []
  }
 ],
 "metadata": {
  "kernelspec": {
   "display_name": "Python 3",
   "language": "python",
   "name": "python3"
  },
  "language_info": {
   "codemirror_mode": {
    "name": "ipython",
    "version": 3
   },
   "file_extension": ".py",
   "mimetype": "text/x-python",
   "name": "python",
   "nbconvert_exporter": "python",
   "pygments_lexer": "ipython3",
   "version": "3.6.8"
  }
 },
 "nbformat": 4,
 "nbformat_minor": 2
}
